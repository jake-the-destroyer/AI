{
 "cells": [
  {
   "cell_type": "code",
   "execution_count": 136,
   "metadata": {
    "collapsed": false
   },
   "outputs": [
    {
     "name": "stdout",
     "output_type": "stream",
     "text": [
      "The autoreload extension is already loaded. To reload it, use:\n",
      "  %reload_ext autoreload\n"
     ]
    }
   ],
   "source": [
    "%load_ext autoreload\n",
    "%autoreload 2 \n",
    "%matplotlib inline"
   ]
  },
  {
   "cell_type": "code",
   "execution_count": 137,
   "metadata": {
    "collapsed": true
   },
   "outputs": [],
   "source": [
    "import pandas as pd\n",
    "import numpy as np\n",
    "import matplotlib as pltb\n",
    "\n",
    "from sklearn.preprocessing import Imputer\n",
    "from sklearn.preprocessing import StandardScaler\n",
    "from sklearn.pipeline import Pipeline\n",
    "from sklearn.linear_model import LogisticRegression\n",
    "from sklearn.linear_model import LassoCV\n",
    "from sklearn.linear_model import RidgeCV\n",
    "from sklearn.model_selection import cross_val_score\n",
    "from sklearn.metrics import mean_squared_error\n",
    "from sklearn.neighbors import KNeighborsClassifier\n",
    "from sklearn.linear_model import Lasso\n",
    "from sklearn.model_selection import GridSearchCV"
   ]
  },
  {
   "cell_type": "code",
   "execution_count": 138,
   "metadata": {
    "collapsed": false
   },
   "outputs": [
    {
     "data": {
      "text/html": [
       "<div>\n",
       "<table border=\"1\" class=\"dataframe\">\n",
       "  <thead>\n",
       "    <tr style=\"text-align: right;\">\n",
       "      <th></th>\n",
       "      <th>age_yrs</th>\n",
       "      <th>height_cm</th>\n",
       "      <th>weight_kg</th>\n",
       "      <th>duration_mins</th>\n",
       "      <th>elapsed_mins</th>\n",
       "      <th>sex</th>\n",
       "      <th>last_meal</th>\n",
       "      <th>units</th>\n",
       "      <th>over_limit</th>\n",
       "    </tr>\n",
       "  </thead>\n",
       "  <tbody>\n",
       "    <tr>\n",
       "      <th>count</th>\n",
       "      <td>76.000000</td>\n",
       "      <td>76.000000</td>\n",
       "      <td>76.000000</td>\n",
       "      <td>76</td>\n",
       "      <td>76</td>\n",
       "      <td>76</td>\n",
       "      <td>76</td>\n",
       "      <td>76.000000</td>\n",
       "      <td>76</td>\n",
       "    </tr>\n",
       "    <tr>\n",
       "      <th>unique</th>\n",
       "      <td>NaN</td>\n",
       "      <td>NaN</td>\n",
       "      <td>NaN</td>\n",
       "      <td>16</td>\n",
       "      <td>9</td>\n",
       "      <td>2</td>\n",
       "      <td>5</td>\n",
       "      <td>NaN</td>\n",
       "      <td>2</td>\n",
       "    </tr>\n",
       "    <tr>\n",
       "      <th>top</th>\n",
       "      <td>NaN</td>\n",
       "      <td>NaN</td>\n",
       "      <td>NaN</td>\n",
       "      <td>120</td>\n",
       "      <td>10</td>\n",
       "      <td>Male</td>\n",
       "      <td>Full</td>\n",
       "      <td>NaN</td>\n",
       "      <td>No</td>\n",
       "    </tr>\n",
       "    <tr>\n",
       "      <th>freq</th>\n",
       "      <td>NaN</td>\n",
       "      <td>NaN</td>\n",
       "      <td>NaN</td>\n",
       "      <td>15</td>\n",
       "      <td>61</td>\n",
       "      <td>60</td>\n",
       "      <td>33</td>\n",
       "      <td>NaN</td>\n",
       "      <td>46</td>\n",
       "    </tr>\n",
       "    <tr>\n",
       "      <th>mean</th>\n",
       "      <td>22.657895</td>\n",
       "      <td>176.644737</td>\n",
       "      <td>71.486842</td>\n",
       "      <td>NaN</td>\n",
       "      <td>NaN</td>\n",
       "      <td>NaN</td>\n",
       "      <td>NaN</td>\n",
       "      <td>8.632895</td>\n",
       "      <td>NaN</td>\n",
       "    </tr>\n",
       "    <tr>\n",
       "      <th>std</th>\n",
       "      <td>5.627439</td>\n",
       "      <td>8.453329</td>\n",
       "      <td>11.474602</td>\n",
       "      <td>NaN</td>\n",
       "      <td>NaN</td>\n",
       "      <td>NaN</td>\n",
       "      <td>NaN</td>\n",
       "      <td>5.775567</td>\n",
       "      <td>NaN</td>\n",
       "    </tr>\n",
       "    <tr>\n",
       "      <th>min</th>\n",
       "      <td>18.000000</td>\n",
       "      <td>157.000000</td>\n",
       "      <td>47.000000</td>\n",
       "      <td>NaN</td>\n",
       "      <td>NaN</td>\n",
       "      <td>NaN</td>\n",
       "      <td>NaN</td>\n",
       "      <td>0.000000</td>\n",
       "      <td>NaN</td>\n",
       "    </tr>\n",
       "    <tr>\n",
       "      <th>25%</th>\n",
       "      <td>19.000000</td>\n",
       "      <td>172.000000</td>\n",
       "      <td>63.000000</td>\n",
       "      <td>NaN</td>\n",
       "      <td>NaN</td>\n",
       "      <td>NaN</td>\n",
       "      <td>NaN</td>\n",
       "      <td>4.275000</td>\n",
       "      <td>NaN</td>\n",
       "    </tr>\n",
       "    <tr>\n",
       "      <th>50%</th>\n",
       "      <td>21.000000</td>\n",
       "      <td>177.000000</td>\n",
       "      <td>72.000000</td>\n",
       "      <td>NaN</td>\n",
       "      <td>NaN</td>\n",
       "      <td>NaN</td>\n",
       "      <td>NaN</td>\n",
       "      <td>8.400000</td>\n",
       "      <td>NaN</td>\n",
       "    </tr>\n",
       "    <tr>\n",
       "      <th>75%</th>\n",
       "      <td>23.000000</td>\n",
       "      <td>182.000000</td>\n",
       "      <td>79.000000</td>\n",
       "      <td>NaN</td>\n",
       "      <td>NaN</td>\n",
       "      <td>NaN</td>\n",
       "      <td>NaN</td>\n",
       "      <td>12.100000</td>\n",
       "      <td>NaN</td>\n",
       "    </tr>\n",
       "    <tr>\n",
       "      <th>max</th>\n",
       "      <td>45.000000</td>\n",
       "      <td>200.000000</td>\n",
       "      <td>101.000000</td>\n",
       "      <td>NaN</td>\n",
       "      <td>NaN</td>\n",
       "      <td>NaN</td>\n",
       "      <td>NaN</td>\n",
       "      <td>31.200000</td>\n",
       "      <td>NaN</td>\n",
       "    </tr>\n",
       "  </tbody>\n",
       "</table>\n",
       "</div>"
      ],
      "text/plain": [
       "          age_yrs   height_cm   weight_kg duration_mins elapsed_mins   sex  \\\n",
       "count   76.000000   76.000000   76.000000            76           76    76   \n",
       "unique        NaN         NaN         NaN            16            9     2   \n",
       "top           NaN         NaN         NaN           120           10  Male   \n",
       "freq          NaN         NaN         NaN            15           61    60   \n",
       "mean    22.657895  176.644737   71.486842           NaN          NaN   NaN   \n",
       "std      5.627439    8.453329   11.474602           NaN          NaN   NaN   \n",
       "min     18.000000  157.000000   47.000000           NaN          NaN   NaN   \n",
       "25%     19.000000  172.000000   63.000000           NaN          NaN   NaN   \n",
       "50%     21.000000  177.000000   72.000000           NaN          NaN   NaN   \n",
       "75%     23.000000  182.000000   79.000000           NaN          NaN   NaN   \n",
       "max     45.000000  200.000000  101.000000           NaN          NaN   NaN   \n",
       "\n",
       "       last_meal      units over_limit  \n",
       "count         76  76.000000         76  \n",
       "unique         5        NaN          2  \n",
       "top         Full        NaN         No  \n",
       "freq          33        NaN         46  \n",
       "mean         NaN   8.632895        NaN  \n",
       "std          NaN   5.775567        NaN  \n",
       "min          NaN   0.000000        NaN  \n",
       "25%          NaN   4.275000        NaN  \n",
       "50%          NaN   8.400000        NaN  \n",
       "75%          NaN  12.100000        NaN  \n",
       "max          NaN  31.200000        NaN  "
      ]
     },
     "execution_count": 138,
     "metadata": {},
     "output_type": "execute_result"
    }
   ],
   "source": [
    "df = pd.read_csv('dataset-alcohol.csv')\n",
    "df.describe(include='all')"
   ]
  },
  {
   "cell_type": "code",
   "execution_count": 150,
   "metadata": {
    "collapsed": false
   },
   "outputs": [
    {
     "data": {
      "text/plain": [
       "(73, 13)"
      ]
     },
     "execution_count": 150,
     "metadata": {},
     "output_type": "execute_result"
    }
   ],
   "source": [
    "df.shape"
   ]
  },
  {
   "cell_type": "code",
   "execution_count": 140,
   "metadata": {
    "collapsed": false
   },
   "outputs": [
    {
     "data": {
      "text/plain": [
       "age_yrs            int64\n",
       "height_cm          int64\n",
       "weight_kg          int64\n",
       "duration_mins     object\n",
       "elapsed_mins      object\n",
       "sex               object\n",
       "last_meal         object\n",
       "units            float64\n",
       "over_limit        object\n",
       "dtype: object"
      ]
     },
     "execution_count": 140,
     "metadata": {},
     "output_type": "execute_result"
    }
   ],
   "source": [
    "df.dtypes"
   ]
  },
  {
   "cell_type": "code",
   "execution_count": 141,
   "metadata": {
    "collapsed": false
   },
   "outputs": [
    {
     "data": {
      "text/plain": [
       "array(['?', '60', '90', '120', '150', '240', '30', '270', '180', '330',\n",
       "       '435', '325', '300', '360', '315', '5'], dtype=object)"
      ]
     },
     "execution_count": 141,
     "metadata": {},
     "output_type": "execute_result"
    }
   ],
   "source": [
    "df['duration_mins'].unique()"
   ]
  },
  {
   "cell_type": "code",
   "execution_count": 142,
   "metadata": {
    "collapsed": false
   },
   "outputs": [
    {
     "data": {
      "text/html": [
       "<div>\n",
       "<table border=\"1\" class=\"dataframe\">\n",
       "  <thead>\n",
       "    <tr style=\"text-align: right;\">\n",
       "      <th></th>\n",
       "      <th>age_yrs</th>\n",
       "      <th>height_cm</th>\n",
       "      <th>weight_kg</th>\n",
       "      <th>duration_mins</th>\n",
       "      <th>elapsed_mins</th>\n",
       "      <th>sex</th>\n",
       "      <th>last_meal</th>\n",
       "      <th>units</th>\n",
       "      <th>over_limit</th>\n",
       "    </tr>\n",
       "  </thead>\n",
       "  <tbody>\n",
       "    <tr>\n",
       "      <th>0</th>\n",
       "      <td>40</td>\n",
       "      <td>170</td>\n",
       "      <td>75</td>\n",
       "      <td>?</td>\n",
       "      <td>?</td>\n",
       "      <td>Male</td>\n",
       "      <td>Lunch</td>\n",
       "      <td>0.0</td>\n",
       "      <td>No</td>\n",
       "    </tr>\n",
       "    <tr>\n",
       "      <th>31</th>\n",
       "      <td>18</td>\n",
       "      <td>177</td>\n",
       "      <td>57</td>\n",
       "      <td>?</td>\n",
       "      <td>?</td>\n",
       "      <td>Female</td>\n",
       "      <td>Full</td>\n",
       "      <td>0.0</td>\n",
       "      <td>No</td>\n",
       "    </tr>\n",
       "  </tbody>\n",
       "</table>\n",
       "</div>"
      ],
      "text/plain": [
       "    age_yrs  height_cm  weight_kg duration_mins elapsed_mins     sex  \\\n",
       "0        40        170         75             ?            ?    Male   \n",
       "31       18        177         57             ?            ?  Female   \n",
       "\n",
       "   last_meal  units over_limit  \n",
       "0      Lunch    0.0         No  \n",
       "31      Full    0.0         No  "
      ]
     },
     "execution_count": 142,
     "metadata": {},
     "output_type": "execute_result"
    }
   ],
   "source": [
    "df[df['duration_mins'] == '?']"
   ]
  },
  {
   "cell_type": "code",
   "execution_count": 143,
   "metadata": {
    "collapsed": false
   },
   "outputs": [
    {
     "data": {
      "text/plain": [
       "array(['?', '10', '30', '5', '60', '40', '120', '15', '180'], dtype=object)"
      ]
     },
     "execution_count": 143,
     "metadata": {},
     "output_type": "execute_result"
    }
   ],
   "source": [
    "df['elapsed_mins'].unique()"
   ]
  },
  {
   "cell_type": "code",
   "execution_count": 144,
   "metadata": {
    "collapsed": false
   },
   "outputs": [
    {
     "data": {
      "text/html": [
       "<div>\n",
       "<table border=\"1\" class=\"dataframe\">\n",
       "  <thead>\n",
       "    <tr style=\"text-align: right;\">\n",
       "      <th></th>\n",
       "      <th>age_yrs</th>\n",
       "      <th>height_cm</th>\n",
       "      <th>weight_kg</th>\n",
       "      <th>duration_mins</th>\n",
       "      <th>elapsed_mins</th>\n",
       "      <th>sex</th>\n",
       "      <th>last_meal</th>\n",
       "      <th>units</th>\n",
       "      <th>over_limit</th>\n",
       "    </tr>\n",
       "  </thead>\n",
       "  <tbody>\n",
       "    <tr>\n",
       "      <th>0</th>\n",
       "      <td>40</td>\n",
       "      <td>170</td>\n",
       "      <td>75</td>\n",
       "      <td>?</td>\n",
       "      <td>?</td>\n",
       "      <td>Male</td>\n",
       "      <td>Lunch</td>\n",
       "      <td>0.0</td>\n",
       "      <td>No</td>\n",
       "    </tr>\n",
       "    <tr>\n",
       "      <th>31</th>\n",
       "      <td>18</td>\n",
       "      <td>177</td>\n",
       "      <td>57</td>\n",
       "      <td>?</td>\n",
       "      <td>?</td>\n",
       "      <td>Female</td>\n",
       "      <td>Full</td>\n",
       "      <td>0.0</td>\n",
       "      <td>No</td>\n",
       "    </tr>\n",
       "  </tbody>\n",
       "</table>\n",
       "</div>"
      ],
      "text/plain": [
       "    age_yrs  height_cm  weight_kg duration_mins elapsed_mins     sex  \\\n",
       "0        40        170         75             ?            ?    Male   \n",
       "31       18        177         57             ?            ?  Female   \n",
       "\n",
       "   last_meal  units over_limit  \n",
       "0      Lunch    0.0         No  \n",
       "31      Full    0.0         No  "
      ]
     },
     "execution_count": 144,
     "metadata": {},
     "output_type": "execute_result"
    }
   ],
   "source": [
    "df[df['elapsed_mins'] == '?']"
   ]
  },
  {
   "cell_type": "code",
   "execution_count": 145,
   "metadata": {
    "collapsed": false
   },
   "outputs": [
    {
     "data": {
      "text/plain": [
       "array(['Lunch', 'Full', 'Snack', '?', 'None'], dtype=object)"
      ]
     },
     "execution_count": 145,
     "metadata": {},
     "output_type": "execute_result"
    }
   ],
   "source": [
    "df['last_meal'].unique()"
   ]
  },
  {
   "cell_type": "code",
   "execution_count": 146,
   "metadata": {
    "collapsed": false
   },
   "outputs": [
    {
     "data": {
      "text/html": [
       "<div>\n",
       "<table border=\"1\" class=\"dataframe\">\n",
       "  <thead>\n",
       "    <tr style=\"text-align: right;\">\n",
       "      <th></th>\n",
       "      <th>age_yrs</th>\n",
       "      <th>height_cm</th>\n",
       "      <th>weight_kg</th>\n",
       "      <th>duration_mins</th>\n",
       "      <th>elapsed_mins</th>\n",
       "      <th>sex</th>\n",
       "      <th>last_meal</th>\n",
       "      <th>units</th>\n",
       "      <th>over_limit</th>\n",
       "    </tr>\n",
       "  </thead>\n",
       "  <tbody>\n",
       "    <tr>\n",
       "      <th>8</th>\n",
       "      <td>23</td>\n",
       "      <td>170</td>\n",
       "      <td>66</td>\n",
       "      <td>60</td>\n",
       "      <td>30</td>\n",
       "      <td>Male</td>\n",
       "      <td>?</td>\n",
       "      <td>4.5</td>\n",
       "      <td>No</td>\n",
       "    </tr>\n",
       "  </tbody>\n",
       "</table>\n",
       "</div>"
      ],
      "text/plain": [
       "   age_yrs  height_cm  weight_kg duration_mins elapsed_mins   sex last_meal  \\\n",
       "8       23        170         66            60           30  Male         ?   \n",
       "\n",
       "   units over_limit  \n",
       "8    4.5         No  "
      ]
     },
     "execution_count": 146,
     "metadata": {},
     "output_type": "execute_result"
    }
   ],
   "source": [
    "df[df['last_meal'] == '?']"
   ]
  },
  {
   "cell_type": "markdown",
   "metadata": {},
   "source": [
    "age_yrs            int64\n",
    "height_cm          int64\n",
    "weight_kg          int64\n",
    "duration_mins     object\n",
    "elapsed_mins      object\n",
    "sex               object\n",
    "last_meal         object\n",
    "units            float64\n",
    "over_limit        object\n",
    "dtype: object\n",
    "    \n",
    "  \n",
    "Delete both of these columns?\n",
    "- Duration_mins, select the mean\n",
    "- elapsed_mins, select mean\n",
    "\n",
    "- sex is fine\n",
    "- last meal needs a mode."
   ]
  },
  {
   "cell_type": "code",
   "execution_count": 147,
   "metadata": {
    "collapsed": false
   },
   "outputs": [],
   "source": [
    "#Make a new copy with the deleted values for which there is some shit.\n",
    "\n",
    "#df_delete = (df[(df['duration_mins'] != '?')]).copy()\n",
    "#df_delete.reset_index(drop = True, inplace = True)\n",
    "\n",
    "df.replace('?', np.nan, inplace=True)\n",
    "df.dropna(inplace=True)\n",
    "df.reset_index(drop=True, inplace=True)\n",
    "\n",
    "df_delete.describe(include='all')\n",
    "df_delete['duration_mins'] = df_delete['duration_mins'].astype(int)\n",
    "df_delete['elapsed_mins'] = df_delete['elapsed_mins'].astype(int)\n",
    "\n",
    "\n",
    "\n",
    "#One hot encode...\n",
    "\n",
    "one_hot = pd.get_dummies(df['sex'], 'sex', '_')\n",
    "df.drop('sex', axis=1, inplace=True)\n",
    "df = pd.concat([df, one_hot], axis=1)\n",
    "\n",
    "one_hot = pd.get_dummies(df['last_meal'], 'last_meal', '_')\n",
    "df.drop('last_meal', axis=1, inplace=True)\n",
    "df = pd.concat([df, one_hot], axis=1)\n",
    "\n",
    "#Some replacement for the over the limit thang.\n",
    "\n",
    "df.replace({'over_limit' : {'Yes' : 1, 'No' : 0}}, inplace=True)\n",
    "\n",
    "#LabelEncoder - Same as the replace but for more than two values."
   ]
  },
  {
   "cell_type": "code",
   "execution_count": 151,
   "metadata": {
    "collapsed": false
   },
   "outputs": [
    {
     "data": {
      "text/html": [
       "<div>\n",
       "<table border=\"1\" class=\"dataframe\">\n",
       "  <thead>\n",
       "    <tr style=\"text-align: right;\">\n",
       "      <th></th>\n",
       "      <th>age_yrs</th>\n",
       "      <th>height_cm</th>\n",
       "      <th>weight_kg</th>\n",
       "      <th>duration_mins</th>\n",
       "      <th>elapsed_mins</th>\n",
       "      <th>units</th>\n",
       "      <th>over_limit</th>\n",
       "      <th>sex_Female</th>\n",
       "      <th>sex_Male</th>\n",
       "      <th>last_meal_?</th>\n",
       "      <th>last_meal_Full</th>\n",
       "      <th>last_meal_Lunch</th>\n",
       "      <th>last_meal_None</th>\n",
       "      <th>last_meal_Snack</th>\n",
       "    </tr>\n",
       "  </thead>\n",
       "  <tbody>\n",
       "    <tr>\n",
       "      <th>count</th>\n",
       "      <td>74.000000</td>\n",
       "      <td>74.000000</td>\n",
       "      <td>74.000000</td>\n",
       "      <td>74.000000</td>\n",
       "      <td>74.000000</td>\n",
       "      <td>74.000000</td>\n",
       "      <td>74.000000</td>\n",
       "      <td>74.000000</td>\n",
       "      <td>74.000000</td>\n",
       "      <td>74.000000</td>\n",
       "      <td>74.000000</td>\n",
       "      <td>74.000000</td>\n",
       "      <td>74.000000</td>\n",
       "      <td>74.000000</td>\n",
       "    </tr>\n",
       "    <tr>\n",
       "      <th>mean</th>\n",
       "      <td>22.486486</td>\n",
       "      <td>176.729730</td>\n",
       "      <td>71.635135</td>\n",
       "      <td>156.081081</td>\n",
       "      <td>16.554054</td>\n",
       "      <td>8.866216</td>\n",
       "      <td>0.405405</td>\n",
       "      <td>0.202703</td>\n",
       "      <td>0.797297</td>\n",
       "      <td>0.013514</td>\n",
       "      <td>0.432432</td>\n",
       "      <td>0.283784</td>\n",
       "      <td>0.148649</td>\n",
       "      <td>0.121622</td>\n",
       "    </tr>\n",
       "    <tr>\n",
       "      <th>std</th>\n",
       "      <td>5.299892</td>\n",
       "      <td>8.532448</td>\n",
       "      <td>11.498153</td>\n",
       "      <td>100.537154</td>\n",
       "      <td>25.413373</td>\n",
       "      <td>5.672217</td>\n",
       "      <td>0.494322</td>\n",
       "      <td>0.404757</td>\n",
       "      <td>0.404757</td>\n",
       "      <td>0.116248</td>\n",
       "      <td>0.498795</td>\n",
       "      <td>0.453911</td>\n",
       "      <td>0.358170</td>\n",
       "      <td>0.329079</td>\n",
       "    </tr>\n",
       "    <tr>\n",
       "      <th>min</th>\n",
       "      <td>18.000000</td>\n",
       "      <td>157.000000</td>\n",
       "      <td>47.000000</td>\n",
       "      <td>5.000000</td>\n",
       "      <td>5.000000</td>\n",
       "      <td>1.200000</td>\n",
       "      <td>0.000000</td>\n",
       "      <td>0.000000</td>\n",
       "      <td>0.000000</td>\n",
       "      <td>0.000000</td>\n",
       "      <td>0.000000</td>\n",
       "      <td>0.000000</td>\n",
       "      <td>0.000000</td>\n",
       "      <td>0.000000</td>\n",
       "    </tr>\n",
       "    <tr>\n",
       "      <th>25%</th>\n",
       "      <td>19.000000</td>\n",
       "      <td>172.000000</td>\n",
       "      <td>63.250000</td>\n",
       "      <td>67.500000</td>\n",
       "      <td>10.000000</td>\n",
       "      <td>4.650000</td>\n",
       "      <td>0.000000</td>\n",
       "      <td>0.000000</td>\n",
       "      <td>1.000000</td>\n",
       "      <td>0.000000</td>\n",
       "      <td>0.000000</td>\n",
       "      <td>0.000000</td>\n",
       "      <td>0.000000</td>\n",
       "      <td>0.000000</td>\n",
       "    </tr>\n",
       "    <tr>\n",
       "      <th>50%</th>\n",
       "      <td>21.000000</td>\n",
       "      <td>177.000000</td>\n",
       "      <td>72.000000</td>\n",
       "      <td>120.000000</td>\n",
       "      <td>10.000000</td>\n",
       "      <td>9.050000</td>\n",
       "      <td>0.000000</td>\n",
       "      <td>0.000000</td>\n",
       "      <td>1.000000</td>\n",
       "      <td>0.000000</td>\n",
       "      <td>0.000000</td>\n",
       "      <td>0.000000</td>\n",
       "      <td>0.000000</td>\n",
       "      <td>0.000000</td>\n",
       "    </tr>\n",
       "    <tr>\n",
       "      <th>75%</th>\n",
       "      <td>23.000000</td>\n",
       "      <td>182.000000</td>\n",
       "      <td>79.000000</td>\n",
       "      <td>240.000000</td>\n",
       "      <td>10.000000</td>\n",
       "      <td>12.300000</td>\n",
       "      <td>1.000000</td>\n",
       "      <td>0.000000</td>\n",
       "      <td>1.000000</td>\n",
       "      <td>0.000000</td>\n",
       "      <td>1.000000</td>\n",
       "      <td>1.000000</td>\n",
       "      <td>0.000000</td>\n",
       "      <td>0.000000</td>\n",
       "    </tr>\n",
       "    <tr>\n",
       "      <th>max</th>\n",
       "      <td>45.000000</td>\n",
       "      <td>200.000000</td>\n",
       "      <td>101.000000</td>\n",
       "      <td>435.000000</td>\n",
       "      <td>180.000000</td>\n",
       "      <td>31.200000</td>\n",
       "      <td>1.000000</td>\n",
       "      <td>1.000000</td>\n",
       "      <td>1.000000</td>\n",
       "      <td>1.000000</td>\n",
       "      <td>1.000000</td>\n",
       "      <td>1.000000</td>\n",
       "      <td>1.000000</td>\n",
       "      <td>1.000000</td>\n",
       "    </tr>\n",
       "  </tbody>\n",
       "</table>\n",
       "</div>"
      ],
      "text/plain": [
       "         age_yrs   height_cm   weight_kg  duration_mins  elapsed_mins  \\\n",
       "count  74.000000   74.000000   74.000000      74.000000     74.000000   \n",
       "mean   22.486486  176.729730   71.635135     156.081081     16.554054   \n",
       "std     5.299892    8.532448   11.498153     100.537154     25.413373   \n",
       "min    18.000000  157.000000   47.000000       5.000000      5.000000   \n",
       "25%    19.000000  172.000000   63.250000      67.500000     10.000000   \n",
       "50%    21.000000  177.000000   72.000000     120.000000     10.000000   \n",
       "75%    23.000000  182.000000   79.000000     240.000000     10.000000   \n",
       "max    45.000000  200.000000  101.000000     435.000000    180.000000   \n",
       "\n",
       "           units  over_limit  sex_Female   sex_Male  last_meal_?  \\\n",
       "count  74.000000   74.000000   74.000000  74.000000    74.000000   \n",
       "mean    8.866216    0.405405    0.202703   0.797297     0.013514   \n",
       "std     5.672217    0.494322    0.404757   0.404757     0.116248   \n",
       "min     1.200000    0.000000    0.000000   0.000000     0.000000   \n",
       "25%     4.650000    0.000000    0.000000   1.000000     0.000000   \n",
       "50%     9.050000    0.000000    0.000000   1.000000     0.000000   \n",
       "75%    12.300000    1.000000    0.000000   1.000000     0.000000   \n",
       "max    31.200000    1.000000    1.000000   1.000000     1.000000   \n",
       "\n",
       "       last_meal_Full  last_meal_Lunch  last_meal_None  last_meal_Snack  \n",
       "count       74.000000        74.000000       74.000000        74.000000  \n",
       "mean         0.432432         0.283784        0.148649         0.121622  \n",
       "std          0.498795         0.453911        0.358170         0.329079  \n",
       "min          0.000000         0.000000        0.000000         0.000000  \n",
       "25%          0.000000         0.000000        0.000000         0.000000  \n",
       "50%          0.000000         0.000000        0.000000         0.000000  \n",
       "75%          1.000000         1.000000        0.000000         0.000000  \n",
       "max          1.000000         1.000000        1.000000         1.000000  "
      ]
     },
     "execution_count": 151,
     "metadata": {},
     "output_type": "execute_result"
    }
   ],
   "source": [
    "m, n = df.shape\n",
    "df_delete.describe(include='all')"
   ]
  },
  {
   "cell_type": "code",
   "execution_count": 152,
   "metadata": {
    "collapsed": false
   },
   "outputs": [
    {
     "data": {
      "text/plain": [
       "Index(['age_yrs', 'height_cm', 'weight_kg', 'duration_mins', 'elapsed_mins',\n",
       "       'units', 'over_limit', 'sex_Female', 'sex_Male', 'last_meal_Full',\n",
       "       'last_meal_Lunch', 'last_meal_None', 'last_meal_Snack'],\n",
       "      dtype='object')"
      ]
     },
     "execution_count": 152,
     "metadata": {},
     "output_type": "execute_result"
    }
   ],
   "source": [
    "df.columns"
   ]
  },
  {
   "cell_type": "code",
   "execution_count": 149,
   "metadata": {
    "collapsed": false
   },
   "outputs": [],
   "source": [
    "df = df_delete.take(np.random.permutation(m))\n",
    "df.reset_index(drop=True, inplace=True)\n",
    "\n",
    "X = df[['age_yrs', 'height_cm', 'weight_kg', 'duration_mins', 'elapsed_mins',  \\\n",
    "        'units', 'sex_Female', 'sex_Male', 'last_meal_Full', 'last_meal_Lunch',\\\n",
    "        'last_meal_None', 'last_meal_Snack']].values\n",
    "y = df['over_limit'].values\n",
    "\n",
    "\n",
    "#--------------FINISH ON MONDAY-------------------#\n",
    "\n",
    "\n",
    "ols = Pipeline([('standardize', StandardScaler()),\n",
    "                ('estimator', LogisticRegression())])\n",
    " \n",
    " \n",
    "lassocv = Pipeline([('standardize', StandardScaler()),\n",
    "                    ('estimator', LassoCV(cv=10))])\n",
    " \n",
    " \n",
    "ridgecv = Pipeline([('standardize', StandardScaler()),\n",
    "                    ('estimator', RidgeCV(cv=10))])\n",
    " \n",
    " \n",
    "knn = Pipeline([('standardize', StandardScaler()),\n",
    "                ('estimator', KNeighborsClassifier(weights = 'distance'))])\n",
    " \n",
    "\n",
    "#Remeber that it's estimator__n_neighbors\n",
    "knn_hyperparameters = {'estimator__n_neighbors' : [1, 2, 3, 4, 5, 6, 7,8, 9, 10]}\n",
    "knn_gs = GridSearchCV(knn, knn_hyperparameters, scoring = 'accuracy', cv = 10)"
   ]
  },
  {
   "cell_type": "code",
   "execution_count": null,
   "metadata": {
    "collapsed": true
   },
   "outputs": [],
   "source": []
  }
 ],
 "metadata": {
  "kernelspec": {
   "display_name": "Python 3",
   "language": "python",
   "name": "python3"
  },
  "language_info": {
   "codemirror_mode": {
    "name": "ipython",
    "version": 3
   },
   "file_extension": ".py",
   "mimetype": "text/x-python",
   "name": "python",
   "nbconvert_exporter": "python",
   "pygments_lexer": "ipython3",
   "version": "3.4.0"
  }
 },
 "nbformat": 4,
 "nbformat_minor": 2
}
