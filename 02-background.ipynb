{
 "cells": [
  {
   "cell_type": "markdown",
   "metadata": {
    "slideshow": {
     "slide_type": "slide"
    }
   },
   "source": [
    "<h1>CS4619: Artificial Intelligence 2</h1>\n",
    "<h2>Background Review</h2>\n",
    "<h3>\n",
    "    Derek Bridge<br>\n",
    "    School of Computer Science and Information Technology<br>\n",
    "    University College Cork\n",
    "</h3>"
   ]
  },
  {
   "cell_type": "markdown",
   "metadata": {
    "slideshow": {
     "slide_type": "skip"
    }
   },
   "source": [
    "# Initialization $\\newcommand{\\Set}[1]{\\{#1\\}}$ $\\newcommand{\\Tuple}[1]{\\langle#1\\rangle}$ $\\newcommand{\\v}[1]{\\pmb{#1}}$ $\\newcommand{\\cv}[1]{\\begin{bmatrix}#1\\end{bmatrix}}$ $\\newcommand{\\rv}[1]{[#1]}$"
   ]
  },
  {
   "cell_type": "code",
   "execution_count": 2,
   "metadata": {
    "collapsed": false,
    "slideshow": {
     "slide_type": "skip"
    }
   },
   "outputs": [],
   "source": [
    "%load_ext autoreload\n",
    "%autoreload 2\n",
    "%matplotlib inline"
   ]
  },
  {
   "cell_type": "code",
   "execution_count": 3,
   "metadata": {
    "collapsed": false,
    "slideshow": {
     "slide_type": "skip"
    }
   },
   "outputs": [],
   "source": [
    "import pandas as pd\n",
    "import numpy as np\n",
    "import matplotlib.pyplot as plt"
   ]
  },
  {
   "cell_type": "code",
   "execution_count": null,
   "metadata": {
    "collapsed": true,
    "slideshow": {
     "slide_type": "skip"
    }
   },
   "outputs": [],
   "source": [
    "import numpy.linalg as npla"
   ]
  },
  {
   "cell_type": "markdown",
   "metadata": {
    "slideshow": {
     "slide_type": "slide"
    }
   },
   "source": [
    "<h1>Matrices</h1>\n",
    "<p>\n",
    "    A <b>matrix</b> is a rectangular array, in our case of real numbers.\n",
    "</p>\n",
    "<ul>\n",
    "    <li>\n",
    "        In general, we use bold capital letters, e.g. $\\v{A}$, for matrices, e.g.\n",
    "        $$\\v{A} = \\begin{bmatrix}\n",
    "                      2 & 4 & 0 \\\\\n",
    "                      1 & 3 & 2\n",
    "                  \\end{bmatrix}\n",
    "        $$\n",
    "    </li>\n",
    "    <li>\n",
    "        <b>Dimension</b>: A matrix with $m$ rows and $n$ columns is an <b>$m \\times n$ matrix</b>\n",
    "        <ul>\n",
    "            <li>\n",
    "                What are $m$ and $n$ for $\\v{A}$?\n",
    "            </li>\n",
    "        </ul>\n",
    "    </li>\n",
    "    <li>\n",
    "        We refer to an <b>element</b> of a matrix either using subscripts or indexes\n",
    "        <ul>\n",
    "            <li>\n",
    "                $\\v{A}_{i,j}$ or $\\v{A}[i,j]$ is the element in the $i$th row and $j$th column\n",
    "            </li>\n",
    "            <li>\n",
    "                We will index from 1\n",
    "                <ul>\n",
    "                    <li>\n",
    "                        However, we will sometimes use position 0 for 'technical' purposes\n",
    "                    </li>\n",
    "                    <li>\n",
    "                        And we must be aware that Python numpy arrays and matrices are 0-indexed\n",
    "                    </li>\n",
    "                </ul>\n",
    "             </li>\n",
    "             <li>\n",
    "                 So what are $\\v{A}_{2,1}$, $\\v{A}_{1,2}$, $\\v{A}_{0,0}$ and $\\v{A}_{3, 2}$?\n",
    "             </li>\n",
    "        </ul>\n",
    "    </li>\n",
    "</ul>"
   ]
  },
  {
   "cell_type": "markdown",
   "metadata": {
    "slideshow": {
     "slide_type": "slide"
    }
   },
   "source": [
    "<h1>Vectors</h1>\n",
    "<p>\n",
    "    A <b>vector</b> is a matrix that has only one column, i.e. a $m \\times 1$ matrix\n",
    "</p>\n",
    "<ul>\n",
    "    <li>\n",
    "        A vector with $m$ rows is called a <b>$m$-dimensional</b> vector\n",
    "    </li>\n",
    "    <li>\n",
    "        In general, we use bold lowercase letters for vectors, e.g.\n",
    "        $$\\v{x} = \\cv{2\\\\4\\\\3}$$\n",
    "    <li>\n",
    "        Sometimes this is called a <b>column vector</b>\n",
    "    </li>\n",
    "    <li>\n",
    "        Then, by contrast, a <b>row vector</b> is a matrix that has only one row, i.e. a $1 \\times n$ matrix, e.g.\n",
    "        $$\\rv{2, 4, 3}$$\n",
    "    </li>\n",
    "    <li>\n",
    "        Unless stated otherwise, a vector should be assumed to be a column vector.\n",
    "    </li>\n",
    "    <li>\n",
    "        We can refer to an element using a single subscript, again most of the time indexed from 1\n",
    "        <ul>\n",
    "            <li>\n",
    "                So what is $\\v{x}_1$?\n",
    "            </li>\n",
    "        </ul>\n",
    "    </li>\n",
    "</ul>"
   ]
  },
  {
   "cell_type": "markdown",
   "metadata": {
    "slideshow": {
     "slide_type": "slide"
    }
   },
   "source": [
    "<h1>Vectors and Matrices in Python</h1>\n",
    "<p>\n",
    "    Of the many ways of representing vectors and matrices in Python, we will use two:\n",
    "</p>\n",
    "<ul>\n",
    "    <li>\n",
    "        From the pandas library, for vectors we will use <code>Series</code>, which are a kind of one-dimensional array,\n",
    "        and for matrices we will use <code>DataFrame</code>s, which are tabular data structures of rows and columns.\n",
    "        As well as supporting fairly traditional indexing, the columns in a <code>DataFrame</code> can have names,\n",
    "        which can also be used to extract data from the <code>DataFrame</code>.\n",
    "    </li>\n",
    "    <li>\n",
    "        From the numpy library, we will use numpy arrays, which can be one-dimensional, two-dimensional, or have\n",
    "        more dimensions. The machine learning library that we will use, scikit-learn, expects its data to arrive\n",
    "        as numpy arrays.\n",
    "    </li>\n",
    "</ul>  \n",
    "<p>\n",
    "    For the rest of this lecture, we'll exemplify numpy arrays.\n",
    "</p>"
   ]
  },
  {
   "cell_type": "markdown",
   "metadata": {
    "slideshow": {
     "slide_type": "slide"
    }
   },
   "source": [
    "<h2>Using numpy arrays</h2>"
   ]
  },
  {
   "cell_type": "code",
   "execution_count": 4,
   "metadata": {
    "collapsed": false
   },
   "outputs": [],
   "source": [
    "# Vectors\n",
    "# We will use a numpy 1d array, which we can create from a list\n",
    "# But, done this way, there is no way for us to distinguish between column- and row-vectors\n",
    "x = np.array([2, 4, 3])\n",
    "\n",
    "# Matrices\n",
    "# We will use a numpy 2d array, which we can create from a list of lists\n",
    "A = np.array([[2, 4, 0], [1, 3, 2]])"
   ]
  },
  {
   "cell_type": "markdown",
   "metadata": {
    "slideshow": {
     "slide_type": "slide"
    }
   },
   "source": [
    "<h1>Matrix Addition and Subtraction</h1>\n",
    "<p>\n",
    "    Two matrices $\\v{A}$ and $\\v{B}$ can be added or subtracted if they have the same dimensions. \n",
    "    Their sum is obtained by adding or subtracting corresponding elements, e.g.\n",
    "    $$\n",
    "        \\v{A} = \\begin{bmatrix}\n",
    "                2 & 4 & 0 \\\\\n",
    "                1 & 3 & 2\n",
    "            \\end{bmatrix}\\,\\,\\,\\,\\,\\,\\,\\,\\,\\,\n",
    "        \\v{B} = \\begin{bmatrix}\n",
    "                1 & 0 & 5 \\\\\n",
    "                2 & 3 & 2\n",
    "            \\end{bmatrix}\\,\\,\\,\\,\\,\\,\\,\\,\\,\\,\n",
    "        \\v{A}+\\v{B} = \\begin{bmatrix}\n",
    "                3 & 4 & 5 \\\\\n",
    "                3 & 6 & 4\n",
    "              \\end{bmatrix}\n",
    "    $$\n",
    "</p>"
   ]
  },
  {
   "cell_type": "markdown",
   "metadata": {
    "slideshow": {
     "slide_type": "slide"
    }
   },
   "source": [
    "<h1>Scalar Multiplication</h1>\n",
    "<p>\n",
    "    Matrices can be multiplied by real numbers (in this context, often called 'scalars'). The scalar product is obtained\n",
    "    by multiplying each element by the scalar, e.g.\n",
    "    $$\\v{A} = \\begin{bmatrix}\n",
    "            2 & 4 & 0 \\\\\n",
    "            1 & 3 & 2\n",
    "            \\end{bmatrix}\\,\\,\\,\\,\\,\\,\\,\\,\\,\\,\n",
    "      2\\v{A} = \\begin{bmatrix}\n",
    "            4 & 8 & 0 \\\\\n",
    "            2 & 6 & 4\n",
    "           \\end{bmatrix}\\,\\,\\,\\,\\,\\,\\,\\,\\,\\,\n",
    "      \\v{A}/2 = \\begin{bmatrix}\n",
    "            1 & 2 & 0 \\\\\n",
    "            0.5 & 1.5 & 1\n",
    "                \\end{bmatrix}\n",
    "    $$\n",
    "</p>"
   ]
  },
  {
   "cell_type": "markdown",
   "metadata": {
    "slideshow": {
     "slide_type": "slide"
    }
   },
   "source": [
    "<h1>Matrix Addition, Subtraction and Scalar Multiplication in Python</h1>\n",
    "<p>\n",
    "    numpy arrays enable operations like these using the normal addition, subtraction and multiplication\n",
    "    operators and without writing for loops:\n",
    "</p>"
   ]
  },
  {
   "cell_type": "code",
   "execution_count": 5,
   "metadata": {
    "collapsed": false
   },
   "outputs": [
    {
     "data": {
      "text/plain": [
       "array([[3, 4, 5],\n",
       "       [3, 6, 4]])"
      ]
     },
     "execution_count": 5,
     "metadata": {},
     "output_type": "execute_result"
    }
   ],
   "source": [
    "A = np.array([[2, 4, 0], [1, 3, 2]])\n",
    "B = np.array([[1, 0, 5], [2, 3, 2]])\n",
    "A + B"
   ]
  },
  {
   "cell_type": "markdown",
   "metadata": {},
   "source": [
    "<p>\n",
    "    Similarly, operations with scalars are also applied elementwise:\n",
    "</p>"
   ]
  },
  {
   "cell_type": "code",
   "execution_count": 6,
   "metadata": {
    "collapsed": false
   },
   "outputs": [
    {
     "data": {
      "text/plain": [
       "array([[4, 8, 0],\n",
       "       [2, 6, 4]])"
      ]
     },
     "execution_count": 6,
     "metadata": {},
     "output_type": "execute_result"
    }
   ],
   "source": [
    "2 * A"
   ]
  },
  {
   "cell_type": "markdown",
   "metadata": {
    "slideshow": {
     "slide_type": "slide"
    }
   },
   "source": [
    "<h1>Matrix Multiplication</h1>\n",
    "<p>\n",
    "    We can compute $\\v{A}\\v{B}$, the result of multiplying matrices $\\v{A}$ and $\\v{B}$, provided the number of columns\n",
    "    of $\\v{A}$ equals the number of rows of $\\v{B}$\n",
    "</p>\n",
    "<ul>\n",
    "    <li>\n",
    "        If $\\v{A}$ is a $m \\times p$ matrix and $\\v{B}$ is a $p \\times n$ matrix, then we can compute $C = \\v{A}\\v{B}$\n",
    "    </li>\n",
    "    <li>\n",
    "        $\\v{C}$ will be a $m \\times n$ matrix\n",
    "    </li>\n",
    "    <li>\n",
    "        $\\v{C}_{i,j}$ is obtained by multiplying elements of the $i$th row of $\\v{A}$ by corresponding elements\n",
    "        of the $j$th column of $\\v{B}$ and summing:\n",
    "        $$\\v{C}_{i,j} = \\sum_{k=1}^p\\v{A}_{i,k}\\v{B}_{k,j}$$\n",
    "    </li>\n",
    "    <li>E.g.\n",
    "        $$\\v{A} = \\begin{bmatrix}\n",
    "                    2 & 4 & 0 \\\\\n",
    "                    1 & 3 & 2\n",
    "                  \\end{bmatrix}\\,\\,\\,\\,\\,\\,\\,\\,\\,\\,\n",
    "          \\v{B} = \\begin{bmatrix}\n",
    "                    3 & 1 & 2\\\\\n",
    "                    2 & 3 & 1\\\\\n",
    "                    1 & 3 & 3\n",
    "                    \\end{bmatrix}\\,\\,\\,\\,\\,\\,\\,\\,\\,\\,\n",
    "         \\v{A}\\v{B} = \\begin{bmatrix}\n",
    "                         14 & 14 & 8\\\\\n",
    "                         11 & 16 & 11\n",
    "                      \\end{bmatrix}\n",
    "         $$\n",
    "    </li>\n",
    "    <li>Since vectors are just one-column vectors, matrix multiplication can apply &mdash; provided the dimensions are OK, e.g.\n",
    "        $$\\v{A} = \\begin{bmatrix}\n",
    "                  2 & 4 & 0 \\\\\n",
    "                  1 & 3 & 2\n",
    "                  \\end{bmatrix}\\,\\,\\,\\,\\,\\,\\,\\,\\,\\,\n",
    "          \\v{x} = \\cv{2\\\\3\\\\1}\\,\\,\\,\\,\\,\\,\\,\\,\\,\\,\n",
    "          \\v{y} = \\cv{2\\\\3}\\,\\,\\,\\,\\,\\,\\,\\,\\,\\,\n",
    "          \\v{A}\\v{x} = \\cv{16\\\\13}\\,\\,\\,\\,\\,\\,\\,\\,\\,\\,\n",
    "          \\v{A}\\v{y} \\mbox{ is undefined}\n",
    "        $$\n",
    "    </li>\n",
    "</ul> "
   ]
  },
  {
   "cell_type": "markdown",
   "metadata": {
    "slideshow": {
     "slide_type": "slide"
    }
   },
   "source": [
    "<h1>Matrix Multiplication in Python</h1>\n",
    "<p>\n",
    "    numpy offers dot as a function or method for matrix multiplication:\n",
    "</p>"
   ]
  },
  {
   "cell_type": "code",
   "execution_count": 7,
   "metadata": {
    "collapsed": false
   },
   "outputs": [
    {
     "data": {
      "text/plain": [
       "array([[14, 14,  8],\n",
       "       [11, 16, 11]])"
      ]
     },
     "execution_count": 7,
     "metadata": {},
     "output_type": "execute_result"
    }
   ],
   "source": [
    "A = np.array([[2, 4, 0], [1, 3, 2]])\n",
    "B = np.array([[3, 1, 2], [2, 3, 1], [1, 3, 3]])\n",
    "\n",
    "# Multiplication as a function\n",
    "# np.dot(A, B)\n",
    "\n",
    "# Multiplication as a method\n",
    "A.dot(B)"
   ]
  },
  {
   "cell_type": "markdown",
   "metadata": {},
   "source": [
    "<p>\n",
    "    Be warned that A * B on numpy arrays is <strong>not</strong> the same as matrix multiplication as defined\n",
    "    above. Instead, it is performed elementwise on corresponding elements of two equal-sized arrays.\n",
    "</p>"
   ]
  },
  {
   "cell_type": "markdown",
   "metadata": {
    "slideshow": {
     "slide_type": "slide"
    }
   },
   "source": [
    "<h1>Transpose</h1>\n",
    "<p>\n",
    "    The <b>transpose</b> of $m \\times n$ matrix $\\v{A}$, written $\\v{A}^T$, is the $n \\times m$ matrix in \n",
    "    which the first row of $\\v{A}$ becomes the first column of $\\v{A}^T$, the second row of $\\v{A}$ becomes \n",
    "    the second column of $\\v{B}$, and so on.\n",
    "</p>\n",
    "<ul>\n",
    "    <li>\n",
    "        $\\v{A}_{i,j}^T = \\v{A}_{j,i}$\n",
    "    </li>\n",
    "    <li>\n",
    "        E.g.\n",
    "        $$\\v{A} = \\begin{bmatrix}\n",
    "                2 & 4 & 0 \\\\\n",
    "                1 & 3 & 2\n",
    "              \\end{bmatrix}\\,\\,\\,\\,\\,\\,\\,\\,\\,\\,\n",
    "          \\v{A}^T = \\begin{bmatrix}\n",
    "                     2 & 1 \\\\\n",
    "                     4 & 3 \\\\\n",
    "                     0 & 2\n",
    "                    \\end{bmatrix}\n",
    "        $$\n",
    "    </li>\n",
    "    <li>\n",
    "        As a special case, if $\\v{x}$ is a $m$-dimensional column vector ($m \\times 1$), then $\\v{x}^T$ is a \n",
    "        $m$-dimensional row vector ($1 \\times m$), e.g.\n",
    "        $$\\v{x} = \\cv{2\\\\4\\\\3}\\,\\,\\,\\,\\,\\,\\,\\,\\,\\, \\v{x}^T = \\rv{2, 4, 3}$$\n",
    "    </li>\n",
    "</ul>"
   ]
  },
  {
   "cell_type": "markdown",
   "metadata": {
    "slideshow": {
     "slide_type": "slide"
    }
   },
   "source": [
    "<h1>Transpose in Python</h1>\n",
    "<p>\n",
    "    numpy arrays offer easy ways to compute their transpose: either the transpose method or the T attribute:\n",
    "</p>"
   ]
  },
  {
   "cell_type": "code",
   "execution_count": 8,
   "metadata": {
    "collapsed": false
   },
   "outputs": [
    {
     "data": {
      "text/plain": [
       "array([[2, 1],\n",
       "       [4, 3],\n",
       "       [0, 2]])"
      ]
     },
     "execution_count": 8,
     "metadata": {},
     "output_type": "execute_result"
    }
   ],
   "source": [
    "A = np.array([[2, 4, 0], [1, 3, 2]])\n",
    "\n",
    "# Transpose as a method\n",
    "# A.transpose()\n",
    "\n",
    "# Tranpose as an attribute\n",
    "A.T"
   ]
  },
  {
   "cell_type": "markdown",
   "metadata": {
    "slideshow": {
     "slide_type": "slide"
    }
   },
   "source": [
    "<h1>Identity Matrices</h1>\n",
    "<p>\n",
    "    The $n \\times n$ <b>identity matrix</b>, $\\v{I}_n$, contains zeros except for entries on the main diagonal\n",
    "    (from top left to bottom right).\n",
    "</p>\n",
    "<ul>\n",
    "    <li>\n",
    "        $\\v{I}_n[i,i] = 1$ for $i = 1,\\ldots,n$ and $\\v{I}_n[i,j] = 0$ for $i \\neq j$, e.g.\n",
    "        $$\\v{I}_3 = \\begin{bmatrix}\n",
    "                    1 & 0 & 0 \\\\\n",
    "                    0 & 1 & 0 \\\\\n",
    "                    0 & 0 & 1\n",
    "                    \\end{bmatrix}\n",
    "        $$\n",
    "    </li>\n",
    "    <li>\n",
    "        If $\\v{A}$ is an $m \\times n$ matrix then, $\\v{A}\\v{I}_n = \\v{I}_m\\v{A} = \\v{A}$\n",
    "    </li>\n",
    "</ul>"
   ]
  },
  {
   "cell_type": "markdown",
   "metadata": {
    "slideshow": {
     "slide_type": "slide"
    }
   },
   "source": [
    "<h1>Inverses</h1>\n",
    "<p>\n",
    "    If $\\v{A}$ is a $n \\times n$ matrix, then its <b>inverse</b>, $\\v{A}^{-1}$ (<em>if it has one</em>) is also \n",
    "    a $n \\times n$ matrix such that $\\v{A}\\v{A}^{-1} = \\v{I}_n$.\n",
    "</p>\n",
    "<ul>\n",
    "    <li>\n",
    "        $\\v{A} = \\begin{bmatrix}\n",
    "                    1 &  0 & 2 \\\\\n",
    "                    2 & -1 & 3 \\\\\n",
    "                    4 &  1 & 8\n",
    "                 \\end{bmatrix}\\,\\,\\,\\,\\,\\,\\,\\,\\,\\,\n",
    "         \\v{A}^{-1} = \\begin{bmatrix}\n",
    "                     -11 &  2 &  2 \\\\\n",
    "                      -4 &  0 &  1 \\\\\n",
    "                       6 & -1 & -1\n",
    "                      \\end{bmatrix}\n",
    "        $\n",
    "    </li>\n",
    "    <li>\n",
    "        Some $n \\times n$ matrices do not have inverses, e.g.\n",
    "        $$\\begin{bmatrix}\n",
    "            1 & 1 & 1 \\\\\n",
    "            1 & 1 & 1 \\\\\n",
    "            1 & 1 & 1\n",
    "           \\end{bmatrix}$$\n",
    "        In these cases, provided the matrix is square, you can compute a pseudo-inverse, which you can use \n",
    "        for <em>some</em> of the same purposes instead\n",
    "    </li>\n",
    "</ul>"
   ]
  },
  {
   "cell_type": "markdown",
   "metadata": {
    "slideshow": {
     "slide_type": "slide"
    }
   },
   "source": [
    "<h1>Inverses in Python</h1>\n",
    "<p>\n",
    "    numpy.linalg offers function inv for computing inverses, but also function pinv for computing the \n",
    "    Moore-Penrose pseudo-inverse:\n",
    "</p>"
   ]
  },
  {
   "cell_type": "code",
   "execution_count": 9,
   "metadata": {
    "collapsed": false
   },
   "outputs": [
    {
     "data": {
      "text/plain": [
       "array([[ -1.10000000e+01,   2.00000000e+00,   2.00000000e+00],\n",
       "       [ -4.00000000e+00,  -2.96059473e-16,   1.00000000e+00],\n",
       "       [  6.00000000e+00,  -1.00000000e+00,  -1.00000000e+00]])"
      ]
     },
     "execution_count": 9,
     "metadata": {},
     "output_type": "execute_result"
    }
   ],
   "source": [
    "A = np.array([[1, 0, 2], [2, -1, 3], [4, 1, 8]])\n",
    "\n",
    "npla.inv(A)"
   ]
  },
  {
   "cell_type": "code",
   "execution_count": 10,
   "metadata": {
    "collapsed": false
   },
   "outputs": [
    {
     "data": {
      "text/plain": [
       "array([[ -1.10000000e+01,   2.00000000e+00,   2.00000000e+00],\n",
       "       [ -4.00000000e+00,   1.41990266e-14,   1.00000000e+00],\n",
       "       [  6.00000000e+00,  -1.00000000e+00,  -1.00000000e+00]])"
      ]
     },
     "execution_count": 10,
     "metadata": {},
     "output_type": "execute_result"
    }
   ],
   "source": [
    "npla.pinv(A)"
   ]
  },
  {
   "cell_type": "code",
   "execution_count": 11,
   "metadata": {
    "collapsed": false
   },
   "outputs": [
    {
     "ename": "LinAlgError",
     "evalue": "Singular matrix",
     "output_type": "error",
     "traceback": [
      "\u001b[0;31m------------------------------------------------------------\u001b[0m",
      "\u001b[0;31mLinAlgError\u001b[0m                Traceback (most recent call last)",
      "\u001b[0;32m<ipython-input-11-68bf09415942>\u001b[0m in \u001b[0;36m<module>\u001b[0;34m()\u001b[0m\n\u001b[1;32m      1\u001b[0m \u001b[0mB\u001b[0m \u001b[0;34m=\u001b[0m \u001b[0mnp\u001b[0m\u001b[0;34m.\u001b[0m\u001b[0mones\u001b[0m\u001b[0;34m(\u001b[0m\u001b[0;34m(\u001b[0m\u001b[0;36m3\u001b[0m\u001b[0;34m,\u001b[0m\u001b[0;36m3\u001b[0m\u001b[0;34m)\u001b[0m\u001b[0;34m)\u001b[0m\u001b[0;34m\u001b[0m\u001b[0m\n\u001b[1;32m      2\u001b[0m \u001b[0;34m\u001b[0m\u001b[0m\n\u001b[0;32m----> 3\u001b[0;31m \u001b[0mnpla\u001b[0m\u001b[0;34m.\u001b[0m\u001b[0minv\u001b[0m\u001b[0;34m(\u001b[0m\u001b[0mB\u001b[0m\u001b[0;34m)\u001b[0m \u001b[0;31m# raises an exception\u001b[0m\u001b[0;34m\u001b[0m\u001b[0m\n\u001b[0m",
      "\u001b[0;32m/usr/local/lib/python3.5/dist-packages/numpy/linalg/linalg.py\u001b[0m in \u001b[0;36minv\u001b[0;34m(a)\u001b[0m\n\u001b[1;32m    524\u001b[0m     \u001b[0msignature\u001b[0m \u001b[0;34m=\u001b[0m \u001b[0;34m'D->D'\u001b[0m \u001b[0;32mif\u001b[0m \u001b[0misComplexType\u001b[0m\u001b[0;34m(\u001b[0m\u001b[0mt\u001b[0m\u001b[0;34m)\u001b[0m \u001b[0;32melse\u001b[0m \u001b[0;34m'd->d'\u001b[0m\u001b[0;34m\u001b[0m\u001b[0m\n\u001b[1;32m    525\u001b[0m     \u001b[0mextobj\u001b[0m \u001b[0;34m=\u001b[0m \u001b[0mget_linalg_error_extobj\u001b[0m\u001b[0;34m(\u001b[0m\u001b[0m_raise_linalgerror_singular\u001b[0m\u001b[0;34m)\u001b[0m\u001b[0;34m\u001b[0m\u001b[0m\n\u001b[0;32m--> 526\u001b[0;31m     \u001b[0mainv\u001b[0m \u001b[0;34m=\u001b[0m \u001b[0m_umath_linalg\u001b[0m\u001b[0;34m.\u001b[0m\u001b[0minv\u001b[0m\u001b[0;34m(\u001b[0m\u001b[0ma\u001b[0m\u001b[0;34m,\u001b[0m \u001b[0msignature\u001b[0m\u001b[0;34m=\u001b[0m\u001b[0msignature\u001b[0m\u001b[0;34m,\u001b[0m \u001b[0mextobj\u001b[0m\u001b[0;34m=\u001b[0m\u001b[0mextobj\u001b[0m\u001b[0;34m)\u001b[0m\u001b[0;34m\u001b[0m\u001b[0m\n\u001b[0m\u001b[1;32m    527\u001b[0m     \u001b[0;32mreturn\u001b[0m \u001b[0mwrap\u001b[0m\u001b[0;34m(\u001b[0m\u001b[0mainv\u001b[0m\u001b[0;34m.\u001b[0m\u001b[0mastype\u001b[0m\u001b[0;34m(\u001b[0m\u001b[0mresult_t\u001b[0m\u001b[0;34m,\u001b[0m \u001b[0mcopy\u001b[0m\u001b[0;34m=\u001b[0m\u001b[0;32mFalse\u001b[0m\u001b[0;34m)\u001b[0m\u001b[0;34m)\u001b[0m\u001b[0;34m\u001b[0m\u001b[0m\n\u001b[1;32m    528\u001b[0m \u001b[0;34m\u001b[0m\u001b[0m\n",
      "\u001b[0;32m/usr/local/lib/python3.5/dist-packages/numpy/linalg/linalg.py\u001b[0m in \u001b[0;36m_raise_linalgerror_singular\u001b[0;34m(err, flag)\u001b[0m\n\u001b[1;32m     88\u001b[0m \u001b[0;34m\u001b[0m\u001b[0m\n\u001b[1;32m     89\u001b[0m \u001b[0;32mdef\u001b[0m \u001b[0m_raise_linalgerror_singular\u001b[0m\u001b[0;34m(\u001b[0m\u001b[0merr\u001b[0m\u001b[0;34m,\u001b[0m \u001b[0mflag\u001b[0m\u001b[0;34m)\u001b[0m\u001b[0;34m:\u001b[0m\u001b[0;34m\u001b[0m\u001b[0m\n\u001b[0;32m---> 90\u001b[0;31m     \u001b[0;32mraise\u001b[0m \u001b[0mLinAlgError\u001b[0m\u001b[0;34m(\u001b[0m\u001b[0;34m\"Singular matrix\"\u001b[0m\u001b[0;34m)\u001b[0m\u001b[0;34m\u001b[0m\u001b[0m\n\u001b[0m\u001b[1;32m     91\u001b[0m \u001b[0;34m\u001b[0m\u001b[0m\n\u001b[1;32m     92\u001b[0m \u001b[0;32mdef\u001b[0m \u001b[0m_raise_linalgerror_nonposdef\u001b[0m\u001b[0;34m(\u001b[0m\u001b[0merr\u001b[0m\u001b[0;34m,\u001b[0m \u001b[0mflag\u001b[0m\u001b[0;34m)\u001b[0m\u001b[0;34m:\u001b[0m\u001b[0;34m\u001b[0m\u001b[0m\n",
      "\u001b[0;31mLinAlgError\u001b[0m: Singular matrix"
     ]
    }
   ],
   "source": [
    "B = np.ones((3,3))\n",
    "\n",
    "npla.inv(B) # raises an exception"
   ]
  },
  {
   "cell_type": "code",
   "execution_count": 13,
   "metadata": {
    "collapsed": false
   },
   "outputs": [
    {
     "data": {
      "text/plain": [
       "array([[ 0.11111111,  0.11111111,  0.11111111],\n",
       "       [ 0.11111111,  0.11111111,  0.11111111],\n",
       "       [ 0.11111111,  0.11111111,  0.11111111]])"
      ]
     },
     "execution_count": 13,
     "metadata": {},
     "output_type": "execute_result"
    }
   ],
   "source": [
    "npla.pinv(B)"
   ]
  },
  {
   "cell_type": "markdown",
   "metadata": {
    "slideshow": {
     "slide_type": "slide"
    }
   },
   "source": [
    "<h1>Vectorization</h1>\n",
    "<p>\n",
    "    Algorithms that might otherwise need for-loops can often be written much more succinctly by expressing them\n",
    "    in terms of matrix operations. More than this, if your programming language has efficient implementations of\n",
    "    these operations, the resulting programs can run much faster too. \n",
    "</p>\n",
    "<p>\n",
    "    Using fast matrix operations in this way is known as <b>vectorization</b>.\n",
    "</p>\n",
    "<p>\n",
    "    numpy's vectorized array operations, for example, are typically one or more orders of magnitude faster than their \n",
    "    pure Python equivalents.\n",
    "</p>\n",
    "<p>\n",
    "    Here are a few more examples.\n",
    "</p>"
   ]
  },
  {
   "cell_type": "markdown",
   "metadata": {
    "slideshow": {
     "slide_type": "slide"
    }
   },
   "source": [
    "<h2>Evaluating a Linear Equation</h2>\n",
    "<p>\n",
    "    Suppose you have a linear equation, i.e. of this form:\n",
    "    $$y = \\v{\\beta}_1\\v{x}_1 + \\v{\\beta}_2\\v{x}_2 + \\ldots + \\v{\\beta}_n\\v{x}_n$$\n",
    "</p>\n",
    "<ul>\n",
    "    <li>\n",
    "        $\\ldots$ lots of little multiplications, all added together\n",
    "    </li>\n",
    "</ul>\n",
    "<p>\n",
    "    You know that this can be written in this form:\n",
    "    $$y = \\sum_{i=1}^n \\v{\\beta}_i\\v{x}_i$$\n",
    "    If you had to write code to implement this, you might be thinking of a for-loop.\n",
    "</p>\n",
    "<p>\n",
    "    But if we assume that $\\v{x}$ is an $n$-dimensional row vector and $\\v{\\beta}$ is an $n$-dimensional\n",
    "    column vector, then we can instead write the equation in this form:\n",
    "    $$y = \\v{x}\\v{\\beta}$$\n",
    "    and you can implement this with the numpy library's matrix multiplication method.\n",
    "</p>\n",
    "<p>\n",
    "    Let's make this more concrete. Suppose we have this linear equation:\n",
    "    $$y = 3\\v{x}_1 + 2\\v{x}_2 + 4\\v{x}_4$$\n",
    "    and we want to evaluate it for $\\v{x} = \\rv{5, 1, 3}$\n",
    "</p>\n",
    "<p>\n",
    "    We take the coefficients to give us $\\v{\\beta} = \\cv{3\\\\2\\\\4}$ and now we compute\n",
    "    $$y = \\rv{5, 1, 3}\\cv{3\\\\2\\\\4} = 29$$\n",
    "</p>"
   ]
  },
  {
   "cell_type": "markdown",
   "metadata": {
    "slideshow": {
     "slide_type": "slide"
    }
   },
   "source": [
    "<h2>Evaluating a Linear Equation in Python</h2>"
   ]
  },
  {
   "cell_type": "code",
   "execution_count": 12,
   "metadata": {
    "collapsed": false
   },
   "outputs": [
    {
     "data": {
      "text/plain": [
       "29"
      ]
     },
     "execution_count": 12,
     "metadata": {},
     "output_type": "execute_result"
    }
   ],
   "source": [
    "beta = np.array([3, 2, 4])\n",
    "x = np.array([5, 1, 3])\n",
    "\n",
    "# Evaluate the linear equation - without a for-loop\n",
    "y = x.dot(beta)\n",
    "\n",
    "# Display y\n",
    "y"
   ]
  },
  {
   "cell_type": "markdown",
   "metadata": {
    "slideshow": {
     "slide_type": "slide"
    }
   },
   "source": [
    "<h2>Evaluating a Linear Equation Multiple Times</h2>\n",
    "<p>\n",
    "    Suppose we want to evaluate the linear equation $y = \\v{\\beta}_1\\v{x}_1 + \\v{\\beta}_2\\v{x}_2 + \\ldots +\n",
    "    \\v{\\beta}_n\\v{x}_n$ on a number of different row vectors, first for $\\rv{5, 1, 3}$, then for $\\rv{2, 6, 2}$,\n",
    "    then for $\\rv{3, 3, 3}$, and finally for $\\rv{3, 3, 5}$. Maybe you're thinking of a for-loop again? \n",
    "</p>\n",
    "<p>\n",
    "    Instead, we put these different row vectors into a single matrix $\\v{X}$\n",
    "    $$\\v{X} = \\begin{bmatrix}\n",
    "                5 & 1 & 3 \\\\\n",
    "                2 & 6 & 2 \\\\\n",
    "                3 & 3 & 3 \\\\\n",
    "                3 & 3 & 5\n",
    "              \\end{bmatrix}\n",
    "    $$\n",
    "    And we simply evaluate\n",
    "    $$\\v{y} = \\v{X}\\v{\\beta}$$<br>\n",
    "    $$\\v{y} = \\begin{bmatrix}\n",
    "                5 & 1 & 3 \\\\\n",
    "                2 & 6 & 2 \\\\\n",
    "                3 & 3 & 3 \\\\\n",
    "                3 & 3 & 5\n",
    "              \\end{bmatrix}\n",
    "          \\times \\cv{3\\\\2\\\\4} = \\cv{29\\\\ 26\\\\ 27\\\\ 35}\n",
    "    $$\n",
    "</p>"
   ]
  },
  {
   "cell_type": "markdown",
   "metadata": {
    "slideshow": {
     "slide_type": "slide"
    }
   },
   "source": [
    "<h2>Evaluating a Linear Equation Multiple Times in Python</h2>"
   ]
  },
  {
   "cell_type": "code",
   "execution_count": 34,
   "metadata": {
    "collapsed": false
   },
   "outputs": [
    {
     "data": {
      "text/plain": [
       "array([29, 26, 27, 35])"
      ]
     },
     "execution_count": 34,
     "metadata": {},
     "output_type": "execute_result"
    }
   ],
   "source": [
    "beta = np.array([3, 2, 4])\n",
    "X = np.array([[5, 1, 3], [2, 6, 2], [3, 3, 3], [3, 3, 5]])\n",
    "\n",
    "# Evaluate the linear equation multiple times - without a for-loop!\n",
    "y = X.dot(beta)\n",
    "\n",
    "# Display y\n",
    "y"
   ]
  }
 ],
 "metadata": {
  "celltoolbar": "Slideshow",
  "kernelspec": {
   "display_name": "Python 3",
   "language": "python",
   "name": "python3"
  },
  "language_info": {
   "codemirror_mode": {
    "name": "ipython",
    "version": 3
   },
   "file_extension": ".py",
   "mimetype": "text/x-python",
   "name": "python",
   "nbconvert_exporter": "python",
   "pygments_lexer": "ipython3",
   "version": "3.5.2"
  }
 },
 "nbformat": 4,
 "nbformat_minor": 0
}
