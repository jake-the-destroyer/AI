{
 "cells": [
  {
   "cell_type": "markdown",
   "metadata": {
    "slideshow": {
     "slide_type": "slide"
    }
   },
   "source": [
    "<h1>CS4619: Artificial Intelligence 2</h1>\n",
    "<h2>OLS Linear Regression using Gradient Descent</h2>\n",
    "<h3>\n",
    "    Derek Bridge<br>\n",
    "    School of Computer Science and Information Technology<br>\n",
    "    University College Cork\n",
    "</h3>"
   ]
  },
  {
   "cell_type": "markdown",
   "metadata": {
    "slideshow": {
     "slide_type": "skip"
    }
   },
   "source": [
    "# Initialization $\\newcommand{\\Set}[1]{\\{#1\\}}$ $\\newcommand{\\Tuple}[1]{\\langle#1\\rangle}$ $\\newcommand{\\v}[1]{\\pmb{#1}}$ $\\newcommand{\\cv}[1]{\\begin{bmatrix}#1\\end{bmatrix}}$ $\\newcommand{\\rv}[1]{[#1]}$"
   ]
  },
  {
   "cell_type": "code",
   "execution_count": 1,
   "metadata": {
    "collapsed": false,
    "slideshow": {
     "slide_type": "skip"
    }
   },
   "outputs": [],
   "source": [
    "%load_ext autoreload\n",
    "%autoreload 2\n",
    "%matplotlib inline"
   ]
  },
  {
   "cell_type": "code",
   "execution_count": 2,
   "metadata": {
    "collapsed": false,
    "slideshow": {
     "slide_type": "skip"
    }
   },
   "outputs": [],
   "source": [
    "import pandas as pd\n",
    "import numpy as np\n",
    "import matplotlib.pyplot as plt"
   ]
  },
  {
   "cell_type": "code",
   "execution_count": 3,
   "metadata": {
    "collapsed": true,
    "slideshow": {
     "slide_type": "skip"
    }
   },
   "outputs": [],
   "source": [
    "from sklearn.linear_model import LinearRegression"
   ]
  },
  {
   "cell_type": "markdown",
   "metadata": {
    "slideshow": {
     "slide_type": "slide"
    }
   },
   "source": [
    "<h1>OLS Regression using Gradient Descent</h1>\n",
    "<p>\n",
    "    A reminder: we have a training set containing $m$ examples, each having $n$ features. We have \n",
    "    represented the training set as an $m \\times(n+1)$ matrix $\\v{X}$: each row is one of the examples;\n",
    "    each column is one of the features; but all the values in the first column (which we designate column 0)\n",
    "    are set to 1. Each hypothesis is a linear equation, $h_{\\v{\\beta}}(\\v{x}) = \\v{\\beta}_0\\v{x}_0 +\n",
    "    \\v{\\beta}_1\\v{x}_1 + \\ldots + \\v{\\beta}_n\\v{x}_n$. We are trying to find a \n",
    "    $(n+1)$-dimensional vector $\\v{\\beta}$ of parameters that minimise\n",
    "    the loss function $J(\\v{\\beta}) = \\frac{1}{2m}\\sum_{i=1}^m(h_{\\v{\\beta}}(\\v{x}^{(i)}) - \\v{y}^{(i)})^2$. \n",
    "</p>\n",
    "<p>\n",
    "    In the previous lecture, we saw that one approach is to set the gradient of the loss function to zero \n",
    "    and to solve for $\\v{\\beta}$, giving what is called the normal equation. In this lecture, we take a \n",
    "    different approach: we <em>search</em> for the $\\v{\\beta}$ that minimises the loss function.\n",
    "</p>\n",
    "<p>\n",
    "    Conceptually, this approach works as follows:\n",
    "</p>\n",
    "<ul>\n",
    "    <li>\n",
    "         It starts with an initial guess &mdash; e.g. choose each $\\v{\\beta}_j$ randomly or set each to zero\n",
    "    </li>\n",
    "    <li>\n",
    "        It computes $J(\\v{\\beta})$ &mdash; the total error for this hypothesis on the training set\n",
    "    </li>\n",
    "    <li>\n",
    "        And it repeats: it chooses another $\\v{\\beta}$ &mdash; one for which $J(\\v{\\beta})$ is smaller\n",
    "    </li>\n",
    "    <li>\n",
    "        It keeps doing this until $J(\\v{\\beta})$ <b>converges</b> &mdash; changes to $\\v{\\beta}$ do not result\n",
    "        in smaller $J(\\v{\\beta})$\n",
    "    </li>\n",
    "</ul>\n",
    "<p>\n",
    "    So the key to this algorithm is how it comes up with new parameter values, $\\v{\\beta}$.\n",
    "</p>"
   ]
  },
  {
   "cell_type": "markdown",
   "metadata": {
    "slideshow": {
     "slide_type": "slide"
    }
   },
   "source": [
    "<h1>Gradient Descent</h1>\n",
    "<p>\n",
    "    <b>Gradient descent</b> is a <em>general</em> method for finding parameters $\\v{\\beta}$ that minimize some\n",
    "    function $J_{\\v{\\beta}}$. The idea is to repeatedly make small changes to the values of the parameters that\n",
    "    lead to the greatest immediate decrease in the value of $J(\\v{\\beta})$. The algorithm is as follows: \n",
    "</p>\n",
    "<ul style=\"background: lightgrey; list-style: none\">\n",
    "    <li>\n",
    "        repeat\n",
    "        <ul>\n",
    "            <li>\n",
    "                <em>simultaneously</em> update all $\\v{\\beta}_j$ as follows:<br />\n",
    "                $\\v{\\beta}_j \\gets \\v{\\beta}_j - \\alpha\\frac{\\partial J(\\v{\\beta})}{\\partial\\v{\\beta}_j}$\n",
    "            </li>\n",
    "        </ul>\n",
    "        until convergence\n",
    "     </li>\n",
    "</ul>\n",
    "<p>\n",
    "    $\\alpha$ is called the <b>learning rate</b> and it controls the size of the changes that we make.\n",
    "</p>"
   ]
  },
  {
   "cell_type": "markdown",
   "metadata": {
    "slideshow": {
     "slide_type": "slide"
    }
   },
   "source": [
    "<h2>The Importance of Simultaneous Update</h2>\n",
    "<p>\n",
    "    It's important that the updates to the $\\v{\\beta}_j$ are done simultaneously, not one after the other. \n",
    "    We will see how to achieve this using vectorization. The alternative, if you want to stick with a more\n",
    "    conventional programming style, is to use the following statements:\n",
    "</p>\n",
    "<ul style=\"background: lightgrey\">\n",
    "    <li>\n",
    "        $\\v{\\delta}_0 \\gets \\frac{\\partial J(\\v{\\beta})}{\\partial\\v{\\beta}_0}$<br />\n",
    "        $\\v{\\delta}_1 \\gets \\frac{\\partial J(\\v{\\beta})}{\\partial\\v{\\beta}_1}$<br />\n",
    "        $\\vdots$<br />\n",
    "        $\\v{\\delta}_n \\gets \\frac{\\partial J(\\v{\\beta})}{\\partial\\v{\\beta}_n}$<br />\n",
    "        <br />\n",
    "        $\\v{\\beta}_0 \\gets \\v{\\beta}_0 - \\alpha\\v{\\delta}_0$<br />\n",
    "        $\\v{\\beta}_1 \\gets \\v{\\beta}_1 - \\alpha\\v{\\delta}_1$<br />\n",
    "        $\\vdots$<br />\n",
    "        $\\v{\\beta}_n \\gets \\v{\\beta}_n - \\alpha\\v{\\delta}_n$<br />\n",
    "    </li>\n",
    "</ul>\n",
    "<p>\n",
    "    A student reads the above, takes no notice, and simply implements the algorithm with the following \n",
    "    <em>sequence</em> of statements:\n",
    "</p>\n",
    "<ul style=\"background: lightgrey\">\n",
    "    <li>\n",
    "        $\\v{\\beta}_0 \\gets \\v{\\beta}_0 - \\alpha\\frac{\\partial J(\\v{\\beta})}{\\partial\\v{\\beta}_0}$<br />\n",
    "        $\\v{\\beta}_1 \\gets \\v{\\beta}_1 - \\alpha\\frac{\\partial J(\\v{\\beta})}{\\partial\\v{\\beta}_1}$<br />\n",
    "        $\\vdots$<br />\n",
    "        $\\v{\\beta}_n \\gets \\v{\\beta}_n - \\alpha\\frac{\\partial J(\\v{\\beta})}{\\partial\\v{\\beta}_n}$<br />\n",
    "    </li>\n",
    "</ul>\n",
    "<p>\n",
    "    What's the difference?\n",
    "</p>"
   ]
  },
  {
   "cell_type": "markdown",
   "metadata": {
    "slideshow": {
     "slide_type": "slide"
    }
   },
   "source": [
    "<h2>Further Questions</h2>\n",
    "<p>\n",
    "    Some further questions that we will discuss in the lecture:\n",
    "</p>\n",
    "<ul>\n",
    "    <li>\n",
    "        Why do these update rules, using derivatives, make intuitive sense. (We will explain this with\n",
    "        a diagram in which we plot $J_{\\beta}$ on the vertical axis and just one of the parameters on\n",
    "        the horizontal axis. We will consider separately the case where the gradient is positive and where\n",
    "        it is negative and we will see how the update rules move us towards a minimum.)\n",
    "    </li>\n",
    "    <li>\n",
    "        In practice, how will we define convergence?\n",
    "    </li>\n",
    "    <li>\n",
    "        What is the role of the learning rate, $\\alpha$?\n",
    "        <ul>\n",
    "            <li>\n",
    "                What if the value of $\\alpha$ is 'too small'?\n",
    "            </li>\n",
    "            <li>\n",
    "                What if the value of $\\alpha$ is 'too large'?\n",
    "            </li>\n",
    "            <li>\n",
    "                Some people suggest a variant of the algorithm in which the value of $\\alpha$ is decreased\n",
    "                over time, i.e. its value in later iterations is smaller. Why do they suggest this? And why\n",
    "                isn't it necessary?\n",
    "            </li>\n",
    "        </ul>\n",
    "    </li>\n",
    "    <li>\n",
    "        What happens if $J_{\\v{\\beta}}$ isn't convex?\n",
    "    </li>\n",
    "</ul>"
   ]
  },
  {
   "cell_type": "markdown",
   "metadata": {
    "slideshow": {
     "slide_type": "slide"
    }
   },
   "source": [
    "<h1>Gradient Descent for OLS Linear Regression</h1>\n",
    "<p>\n",
    "    All that we need to apply this general algorithm to our specific scenario is to plug in the partial\n",
    "    derivative of our definition of $J_{\\beta}$. We want this:\n",
    "    $$\\frac{\\partial\\frac{1}{2m}\\sum_{i=1}^m(h_{\\v{\\beta}}(\\v{x}^{(i)}) - \\v{y}^{(i)})^2}{\\partial\\v{\\beta}_j}$$\n",
    "    which is\n",
    "    $$\\frac{1}{m}\\sum_{i=1}^m(h_{\\v{\\beta}}(\\v{x}^{(i)}) - \\v{y}^{(i)}) \\times \\v{x}_j^{(i)}$$\n",
    "</p>\n",
    "<p>\n",
    "    So we now get gradient descent for OLS linear regression:\n",
    "</p>\n",
    "<ul style=\"background: lightgrey; list-style: none\">\n",
    "    <li>\n",
    "        repeat\n",
    "        <ul>\n",
    "            <li>\n",
    "                <em>simultaneously</em> update $\\v{\\beta}_j$  as follows:<br />\n",
    "                $\\v{\\beta}_j \\gets \\v{\\beta}_j - \n",
    "                    \\alpha\\frac{1}{m}\\sum_{i=1}^m(h_{\\v{\\beta}}(\\v{x}^{(i)}) - \\v{y}^{(i)}) \\times \\v{x}_j^{(i)}$\n",
    "            </li>\n",
    "        </ul>\n",
    "        until convergence\n",
    "     </li>\n",
    "</ul>"
   ]
  },
  {
   "cell_type": "markdown",
   "metadata": {
    "slideshow": {
     "slide_type": "slide"
    }
   },
   "source": [
    "<h2>Gradient Descent for OLS Linear Regression</h2>\n",
    "<p>\n",
    "    Watch out for the vectorized implementation of the simultaneous update rules!\n",
    "</p>"
   ]
  },
  {
   "cell_type": "code",
   "execution_count": 4,
   "metadata": {
    "collapsed": false
   },
   "outputs": [],
   "source": [
    "def J(beta, X, y):\n",
    "    \"\"\"\n",
    "    Loss function for OLS regression\n",
    "    \"\"\"\n",
    "    h = X.dot(beta)\n",
    "    differences = h.flatten() - y\n",
    "    sq_differences = differences ** 2\n",
    "    return (1.0 / (2 * y.size)) * sq_differences.sum()\n",
    "\n",
    "def gds_for_ols_linear_regression(X, y, alpha, num_iterations):\n",
    "    \"\"\"\n",
    "    Gradient descent search for OLS linear regression.\n",
    "    alpha is the learning rate.\n",
    "    num_iterations is the numer of updates - instead of a better definition of convergence.\n",
    "    It returns parameters beta and also a numpy array of size num_iterations, containing\n",
    "    the value of the loss function, J, after each iteration - so you can plot it.\n",
    "    \"\"\"\n",
    "\n",
    "    Jvals = np.zeros(num_iterations)\n",
    "    m, n = X.shape\n",
    "    beta = np.zeros(n)\n",
    "    \n",
    "    for iter in range(num_iterations):\n",
    "        beta -= (1.0 * alpha / m) * (X.dot(beta) - y).dot(X)\n",
    "        Jvals[iter] = J(beta, X, y)\n",
    " \n",
    "    return beta, Jvals"
   ]
  },
  {
   "cell_type": "markdown",
   "metadata": {
    "slideshow": {
     "slide_type": "slide"
    }
   },
   "source": [
    "<h2>Running the Code</h2>\n",
    "<p>\n",
    "    We'll run it on the Cork property dataset but, for reasons that we will discuss in a later lecture, I'm\n",
    "    going to leave out the floor area feature.\n",
    "</p>"
   ]
  },
  {
   "cell_type": "code",
   "execution_count": 5,
   "metadata": {
    "collapsed": false
   },
   "outputs": [
    {
     "data": {
      "text/plain": [
       "array([-57.66816632,  49.06247762,  91.69181718])"
      ]
     },
     "execution_count": 5,
     "metadata": {},
     "output_type": "execute_result"
    }
   ],
   "source": [
    "# Use pandas to read the CSV file\n",
    "df = pd.read_csv(\"dataset-corkA.csv\")\n",
    "\n",
    "# Insert the extra feature (all ones)\n",
    "df.insert(loc=0, column='ones', value=1)\n",
    "\n",
    "# Get the feature-values and the target values into separate numpy arrays of numbers\n",
    "X = df[['ones', 'bdrms', 'bthrms']].values\n",
    "y = df['price'].values\n",
    "\n",
    "# Run the GDS\n",
    "beta, Jvals = gds_for_ols_linear_regression(X, y, alpha = 0.03, num_iterations = 4000)\n",
    "\n",
    "# Display beta\n",
    "beta"
   ]
  },
  {
   "cell_type": "markdown",
   "metadata": {},
   "source": [
    "<p>\n",
    "    So, using just those two features ($\\v{x}_2$ and $\\v{x}_3$, the number of bedrooms and bathrooms resp.)\n",
    "    and a learning rate of 0.03, after 4000 iterations, the model we have learned is\n",
    "    $$y = -57.67 + 49.06\\v{x_2} + 91.69\\v{x_3}$$\n",
    "</p>"
   ]
  },
  {
   "cell_type": "markdown",
   "metadata": {
    "slideshow": {
     "slide_type": "slide"
    }
   },
   "source": [
    "<h3>Sanity Check</h3>\n",
    "<p>\n",
    "    It's a good idea to plot the values of the loss function against the number of iterations. If its value\n",
    "    ever increases, then\n",
    "</p>\n",
    "<ul>\n",
    "    <li>\n",
    "        the code might be incorrect (I think it's OK!)\n",
    "    </li>\n",
    "    <li>\n",
    "        the value of $\\alpha$ is too big and is causing divergence\n",
    "    </li>\n",
    "</ul>\n",
    "<p>\n",
    "    So let's do that:\n",
    "</p>"
   ]
  },
  {
   "cell_type": "code",
   "execution_count": 6,
   "metadata": {
    "collapsed": false
   },
   "outputs": [
    {
     "data": {
      "image/png": "[encoded data removed]",
      "text/plain": [
       "<matplotlib.figure.Figure at 0x7fb61f4fc828>"
      ]
     },
     "metadata": {},
     "output_type": "display_data"
    }
   ],
   "source": [
    "fig = plt.figure(figsize=(8,6))\n",
    "plt.title(\"$J$ during learning\")\n",
    "plt.xlabel(\"Number of iterations\")\n",
    "plt.xlim(1, Jvals.size)\n",
    "plt.ylabel(\"$J$\")\n",
    "plt.ylim(56000, 70000)\n",
    "xvals = np.linspace(1, Jvals.size, Jvals.size)\n",
    "plt.scatter(xvals, Jvals)\n",
    "plt.show()"
   ]
  },
  {
   "cell_type": "markdown",
   "metadata": {
    "slideshow": {
     "slide_type": "slide"
    }
   },
   "source": [
    "<h1>Stochastic Gradient Descent</h1>\n",
    "<p>\n",
    "    The algorithm we have presented is sometimes called <b>batch gradient descent</b>. On every iteration,\n",
    "    for every parameter, it computes the loss function over <em>all</em> the examples in the training set.\n",
    "    Even with a highly optimized vectorized implementation, this may not scale well to very, very large \n",
    "    training sets. If there are hundreds of millions of examples, say, then they may not even fit in main\n",
    "    memory, in which case they have to be repeatedly read in from disk.\n",
    "</p>\n",
    "<p>\n",
    "    An alternative is <b>stochastic gradient descent</b> (or 'incremental gradient descent'). It looks at\n",
    "    each example in turn, and modifies the parameters $\\v{\\beta}$ on the basis of that individual example.\n",
    "    Here's the pseudocode:\n",
    "</p>\n",
    "<ul style=\"background: lightgrey; list-style: none\">\n",
    "    <li>\n",
    "        repeat\n",
    "        <ul>\n",
    "            <li>for $i \\gets 1$ to $m$\n",
    "                <ul>\n",
    "                    <li>\n",
    "                        <em>simultaneously</em> update $\\v{\\beta}_j$  as follows:<br />\n",
    "                        $\\v{\\beta}_j \\gets \\v{\\beta}_j - \n",
    "                        \\alpha(h_{\\v{\\beta}}(\\v{x}^{(i)}) - \\v{y}^{(i)}) \\times \\v{x}_j^{(i)}$\n",
    "                    </li>\n",
    "                </ul>\n",
    "            </li>\n",
    "        </ul>\n",
    "        until convergence\n",
    "     </li>\n",
    "</ul>\n",
    "<p>\n",
    "    Because it is not guided by the <em>global</em> minimum, some of the individual parameter updates taken in\n",
    "    stochastic gradient descent may not reduce the loss function: its 'journey' towards convergence may be\n",
    "    less direct. On the other hand, if you use it only when you have massive training sets, stochastic\n",
    "    gradient descent might actually take fewer iterations (of the outermost loop) than you require for\n",
    "    typical uses of batch gradient descent.\n",
    "</p>"
   ]
  },
  {
   "cell_type": "markdown",
   "metadata": {
    "slideshow": {
     "slide_type": "slide"
    }
   },
   "source": [
    "<h1>OLS Linear Regression: Normal Equation vs Gradient Descent</h1>\n",
    "<p>\n",
    "    Gradient Descent is such an important algorithm in machine learning and AI in general, that it was worth\n",
    "    studying it. Numerous machine learning algorithms make use of it.\n",
    "</p>\n",
    "<p>\n",
    "    But, for OLS linear regression, you probably wouldn't use it. The normal equation gives a much more direct\n",
    "    method. Here's a comparison of the two:\n",
    "</p>\n",
    "<ul>\n",
    "    <li>\n",
    "        Gradient Descent requires that we choose a learning rate, $\\alpha$; \n",
    "        the normal equation does not.\n",
    "    </li>\n",
    "    <li>\n",
    "        Gradient Descent requires a definition of convergence; the normal equation does not.\n",
    "    </li>\n",
    "    <li>\n",
    "        Gradient Descent can have problems with convergence when different features have very different\n",
    "        ranges of values: see the discussion of feature scaling in an upcoming lecture. These problems do not \n",
    "        arise with the normal equation.\n",
    "    </li>\n",
    "    <li>\n",
    "        But Gradient Descent can handle large numbers of features; you might prefer it if the number of \n",
    "        features $n$ is very large (several thousand, say). The normal equation does not scale so well to\n",
    "        very large numbers of features: $(\\v{X}^T\\v{X})$ is $n \\times n$ (where $n$ is the number of features)\n",
    "        and the typical algorithms for computing matrix inverses (or pseudo-inverses) are cubic in $n$ \n",
    "        (and even the algorithms with better complexity are all more than quadratic). Inverting a matrix with \n",
    "        tens of thousands of features can be too slow.\n",
    "    </li>\n",
    "    <li>\n",
    "        Gradient Descent is a general method for minimizing a  loss function: it crops up across a wide\n",
    "        range of learning algorithms. (This is why we studied it!) By contrast, the normal equation is \n",
    "        specific to linear regression.\n",
    "    </li>\n",
    "</ul>"
   ]
  },
  {
   "cell_type": "markdown",
   "metadata": {
    "slideshow": {
     "slide_type": "slide"
    }
   },
   "source": [
    "<h2>There's No Need To Roll Your Own!</h2>\n",
    "<p>\n",
    "    Let's make one final point by way of conclusion: of course, you don't need to implement either of these linear\n",
    "    regression methods yourself!\n",
    "    A good library such as Python's scikit-learn algorithm will give you a method for doing it. You've\n",
    "    already seen it done. But here it is again (and I'll use the same two features as above, for comparison):\n",
    "</p>"
   ]
  },
  {
   "cell_type": "code",
   "execution_count": 7,
   "metadata": {
    "collapsed": false
   },
   "outputs": [
    {
     "name": "stdout",
     "output_type": "stream",
     "text": [
      "Intercept:  -57.6684429697\n",
      "Coefficients:  [ 49.06255205  91.69181314]\n"
     ]
    }
   ],
   "source": [
    "# Use pandas to read the CSV file\n",
    "df = pd.read_csv(\"dataset-corkA.csv\")\n",
    "\n",
    "# Get the feature-values and the target values into separate numpy arrays of numbers\n",
    "X = df[['bdrms', 'bthrms']].values\n",
    "y = df['price'].values\n",
    "\n",
    "# Create linear regression object\n",
    "estimator = LinearRegression()\n",
    "\n",
    "# Train the model using the data\n",
    "estimator.fit(X, y)\n",
    "\n",
    "# Print the parameters that it learns\n",
    "print('Intercept: ', estimator.intercept_)\n",
    "print('Coefficients: ', estimator.coef_)"
   ]
  }
 ],
 "metadata": {
  "celltoolbar": "Slideshow",
  "kernelspec": {
   "display_name": "Python 3",
   "language": "python",
   "name": "python3"
  },
  "language_info": {
   "codemirror_mode": {
    "name": "ipython",
    "version": 3
   },
   "file_extension": ".py",
   "mimetype": "text/x-python",
   "name": "python",
   "nbconvert_exporter": "python",
   "pygments_lexer": "ipython3",
   "version": "3.5.2"
  }
 },
 "nbformat": 4,
 "nbformat_minor": 0
}
